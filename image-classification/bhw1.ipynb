{
 "cells": [
  {
   "cell_type": "code",
   "execution_count": 2,
   "id": "47814e62",
   "metadata": {
    "cellId": "1zdkqpbdbrwu2zt05nl75o"
   },
   "outputs": [],
   "source": [
    "#!g1.1\n",
    "import torch\n",
    "import torchvision.transforms as T\n",
    "from torch.utils.data import Dataset, DataLoader, random_split\n"
   ]
  },
  {
   "cell_type": "code",
   "execution_count": 3,
   "id": "cf6b6843",
   "metadata": {
    "cellId": "tyktrcntz9fgqngfd8qhp"
   },
   "outputs": [],
   "source": [
    "#!g1.1\n",
    "import os\n",
    "import pandas as pd\n",
    "import numpy as np\n",
    "from PIL import Image\n",
    "from tqdm.notebook import tqdm\n",
    "\n",
    "class BhwDataset(Dataset):\n",
    "    test_pr = 0.25\n",
    "    def __init__(self, root, train, transform=None):\n",
    "        super().__init__()\n",
    "        self.transform = transform\n",
    "        droot = 'trainval/trainval/'\n",
    "        self.root = root + droot\n",
    "        data = pd.read_csv(os.path.join(root, 'labels.csv'))\n",
    "        data.sort_values(by='Id', inplace=True)\n",
    "        ids = np.random.choice(data.shape[0], int(data.shape[0] * self.test_pr), replace=False)\n",
    "        self.file_names = data['Id'].values\n",
    "        self.labels = data['Label'].values\n",
    "        if train:\n",
    "            self.file_names = np.delete(self.file_names, ids)\n",
    "            self.labels = np.delete(self.labels, ids)\n",
    "        else:\n",
    "            self.file_names = self.file_names[ids]\n",
    "            self.labels = self.labels[ids]\n",
    "        self.classes = np.unique(data['Label'].values)\n",
    "\n",
    "    def __len__(self):\n",
    "        return len(self.file_names)\n",
    "\n",
    "    def __getitem__(self, id):\n",
    "        item = Image.open(os.path.join(self.root, self.file_names[id])).convert('RGB')\n",
    "        label = self.labels[id]\n",
    "        if self.transform is not None:\n",
    "            item = self.transform(item)\n",
    "        return item, label\n",
    "    \n",
    "class BhwtestDataset(Dataset):\n",
    "    def __init__(self, root, transform=None):\n",
    "        super().__init__()\n",
    "        self.transform = transform\n",
    "        self.root = root\n",
    "        self.file_names = sorted(os.listdir(root))\n",
    "        self.labels = [0] * len(self.file_names)\n",
    "\n",
    "    def __len__(self):\n",
    "        return len(self.file_names)\n",
    "\n",
    "    def __getitem__(self, id):\n",
    "        item = Image.open(os.path.join(self.root, self.file_names[id])).convert('RGB')\n",
    "        label = self.labels[id]\n",
    "        if self.transform is not None:\n",
    "            item = self.transform(item)\n",
    "        return item, label\n"
   ]
  },
  {
   "cell_type": "code",
   "execution_count": 4,
   "id": "dee53565",
   "metadata": {
    "cellId": "mnp68113q9tilutsv9hkq"
   },
   "outputs": [],
   "source": [
    "#!g1.1\n",
    "normalize = T.Normalize(mean=[0.485, 0.456, 0.406], std=[0.229, 0.224, 0.225])\n",
    "\n",
    "train_transform = T.Compose([\n",
    "    T.RandomResizedCrop(224, scale=(0.5, 1.0)),\n",
    "    T.RandomHorizontalFlip(),\n",
    "    T.ToTensor(),\n",
    "    normalize,\n",
    "])\n",
    "\n",
    "test_transform = T.Compose([\n",
    "    T.Resize(256),\n",
    "    T.CenterCrop(224),\n",
    "    T.ToTensor(),\n",
    "    normalize,\n",
    "])"
   ]
  },
  {
   "cell_type": "code",
   "execution_count": 5,
   "id": "74a31c83",
   "metadata": {
    "cellId": "k63s9odgfj8g4j7bj1uoo5"
   },
   "outputs": [],
   "source": [
    "#!g1.1\n",
    "train_dataset = BhwDataset(root='/home/jupyter/mnt/datasets/bhw1/', train=True, transform=train_transform)\n",
    "test_dataset = BhwDataset(root='/home/jupyter/mnt/datasets/bhw1/', train=False, transform=train_transform)\n",
    "train_loader = DataLoader(train_dataset, batch_size=32, shuffle=True, num_workers=4)\n",
    "test_loader = DataLoader(test_dataset, batch_size=32, shuffle=False, num_workers=4)"
   ]
  },
  {
   "cell_type": "code",
   "execution_count": 6,
   "id": "79a2a6b4",
   "metadata": {
    "cellId": "y78jmt743pywci3b96aym"
   },
   "outputs": [
    {
     "data": {
      "text/plain": [
       "device(type='cuda', index=0)"
      ]
     },
     "execution_count": 6,
     "metadata": {},
     "output_type": "execute_result"
    }
   ],
   "source": [
    "#!g1.1\n",
    "device = torch.device('cuda:0' if torch.cuda.is_available() else 'cpu')\n",
    "device"
   ]
  },
  {
   "cell_type": "code",
   "execution_count": 7,
   "id": "6043ff90",
   "metadata": {
    "cellId": "y7cakx7350edyhmx6lphq5"
   },
   "outputs": [],
   "source": [
    "#!g1.1\n",
    "\n",
    "def training_epoch(model, optimizer, criterion, train_loader, tqdm_desc):\n",
    "    train_loss, train_accuracy = 0.0, 0.0\n",
    "    model.train()\n",
    "    for images, labels in tqdm(train_loader, desc=tqdm_desc):\n",
    "        images = images.to(device)\n",
    "        labels = labels.to(device)\n",
    "\n",
    "        optimizer.zero_grad()\n",
    "        logits = model(images)\n",
    "        loss = criterion(logits, labels)\n",
    "        loss.backward()\n",
    "        optimizer.step()\n",
    "\n",
    "        train_loss += loss.item() * images.shape[0]\n",
    "        train_accuracy += (logits.argmax(dim=1) == labels).sum().item()\n",
    "    \n",
    "    train_loss /= len(train_loader.dataset)\n",
    "    train_accuracy /= len(train_loader.dataset)\n",
    "    return train_loss, train_accuracy\n",
    "\n",
    "\n",
    "@torch.no_grad()\n",
    "def validation_epoch(model, criterion, test_loader, tqdm_desc):\n",
    "    test_loss, test_accuracy = 0.0, 0.0\n",
    "    model.eval()\n",
    "    for images, labels in tqdm(test_loader, desc=tqdm_desc):\n",
    "        images = images.to(device)\n",
    "        labels = labels.to(device)\n",
    "        logits = model(images)\n",
    "        loss = criterion(logits, labels)\n",
    "\n",
    "        test_loss += loss.item() * images.shape[0]\n",
    "        test_accuracy += (logits.argmax(dim=1) == labels).sum().item()\n",
    "\n",
    "    test_loss /= len(test_loader.dataset)\n",
    "    test_accuracy /= len(test_loader.dataset)\n",
    "    return test_loss, test_accuracy\n",
    "\n",
    "@torch.no_grad()\n",
    "def test_epoch(model, test_loader, tqdm_desc):\n",
    "    test_loss, test_accuracy = 0.0, 0.0\n",
    "    model.eval()\n",
    "    for images, labels in tqdm(test_loader, desc=tqdm_desc):\n",
    "        images = images.to(device)\n",
    "        labels = labels.to(device)\n",
    "        logits = model(images)\n",
    "        loss = criterion(logits, labels)\n",
    "\n",
    "        test_loss += loss.item() * images.shape[0]\n",
    "        test_accuracy += (logits.argmax(dim=1) == labels).sum().item()\n",
    "\n",
    "    test_loss /= len(test_loader.dataset)\n",
    "    test_accuracy /= len(test_loader.dataset)\n",
    "    return test_loss, test_accuracy\n",
    "\n",
    "    \n",
    "def train(model, optimizer, scheduler, criterion, train_loader, test_loader, num_epochs):\n",
    "    train_losses, train_accuracies = [], []\n",
    "    test_losses, test_accuracies = [], []\n",
    "\n",
    "    for epoch in range(1, num_epochs + 1):\n",
    "        train_loss, train_accuracy = training_epoch(\n",
    "            model, optimizer, criterion, train_loader,\n",
    "            tqdm_desc=f'Training {epoch}/{num_epochs}'\n",
    "        )\n",
    "        test_loss, test_accuracy = validation_epoch(\n",
    "            model, criterion, test_loader,\n",
    "            tqdm_desc=f'Validating {epoch}/{num_epochs}'\n",
    "        )\n",
    "\n",
    "        if scheduler is not None:\n",
    "            scheduler.step()\n",
    "\n",
    "        train_losses += [train_loss]\n",
    "        train_accuracies += [train_accuracy]\n",
    "        test_losses += [test_loss]\n",
    "        test_accuracies += [test_accuracy]\n",
    "\n",
    "    return train_losses, test_losses, train_accuracies, test_accuracies"
   ]
  },
  {
   "cell_type": "code",
   "execution_count": 8,
   "id": "a8094d5e",
   "metadata": {
    "cellId": "niswtt8m9aio1dhck3jj9"
   },
   "outputs": [],
   "source": [
    "#!g1.1\n",
    "from torchvision.models import mobilenet_v2, MobileNet_V2_Weights\n",
    "\n",
    "num_epochs = 60\n",
    "model = mobilenet_v2(num_classes=len(train_dataset.classes)).to(device)\n",
    "optimizer = torch.optim.SGD(model.parameters(), lr=0.01, momentum=0.9)\n",
    "criterion = torch.nn.CrossEntropyLoss()\n",
    "scheduler = torch.optim.lr_scheduler.CosineAnnealingLR(optimizer, num_epochs)"
   ]
  },
  {
   "cell_type": "code",
   "execution_count": 9,
   "id": "9e02010d",
   "metadata": {
    "cellId": "y4hx4kds6ycm9qpcv040o"
   },
   "outputs": [
    {
     "data": {
      "application/vnd.jupyter.widget-view+json": {
       "model_id": "155d18f2eafb40c4a4d62dd72e2f9884",
       "version_major": 2,
       "version_minor": 0
      },
      "text/plain": [
       "Training 1/10:   0%|          | 0/2344 [00:00<?, ?it/s]"
      ]
     },
     "metadata": {},
     "output_type": "display_data"
    },
    {
     "data": {
      "application/vnd.jupyter.widget-view+json": {
       "model_id": "d55e5737d0344830b21a9aee6c9e3c1c",
       "version_major": 2,
       "version_minor": 0
      },
      "text/plain": [
       "Validating 1/10:   0%|          | 0/782 [00:00<?, ?it/s]"
      ]
     },
     "metadata": {},
     "output_type": "display_data"
    },
    {
     "data": {
      "application/vnd.jupyter.widget-view+json": {
       "model_id": "7d7fc5fe79f24173a28e63e4b81d57b2",
       "version_major": 2,
       "version_minor": 0
      },
      "text/plain": [
       "Training 2/10:   0%|          | 0/2344 [00:00<?, ?it/s]"
      ]
     },
     "metadata": {},
     "output_type": "display_data"
    },
    {
     "data": {
      "application/vnd.jupyter.widget-view+json": {
       "model_id": "b8c6edba177f4bb38764dc5b658733eb",
       "version_major": 2,
       "version_minor": 0
      },
      "text/plain": [
       "Validating 2/10:   0%|          | 0/782 [00:00<?, ?it/s]"
      ]
     },
     "metadata": {},
     "output_type": "display_data"
    },
    {
     "data": {
      "application/vnd.jupyter.widget-view+json": {
       "model_id": "703e99a563224c81bf401060940f0b9b",
       "version_major": 2,
       "version_minor": 0
      },
      "text/plain": [
       "Training 3/10:   0%|          | 0/2344 [00:00<?, ?it/s]"
      ]
     },
     "metadata": {},
     "output_type": "display_data"
    },
    {
     "data": {
      "application/vnd.jupyter.widget-view+json": {
       "model_id": "1e6b91969d9d4b6bbcba4b0e4337e17f",
       "version_major": 2,
       "version_minor": 0
      },
      "text/plain": [
       "Validating 3/10:   0%|          | 0/782 [00:00<?, ?it/s]"
      ]
     },
     "metadata": {},
     "output_type": "display_data"
    },
    {
     "data": {
      "application/vnd.jupyter.widget-view+json": {
       "model_id": "5a06e3dd12944af2abe46e78ad5b897f",
       "version_major": 2,
       "version_minor": 0
      },
      "text/plain": [
       "Training 4/10:   0%|          | 0/2344 [00:00<?, ?it/s]"
      ]
     },
     "metadata": {},
     "output_type": "display_data"
    },
    {
     "data": {
      "application/vnd.jupyter.widget-view+json": {
       "model_id": "6fe830129da644249740c6e0ed9b5155",
       "version_major": 2,
       "version_minor": 0
      },
      "text/plain": [
       "Validating 4/10:   0%|          | 0/782 [00:00<?, ?it/s]"
      ]
     },
     "metadata": {},
     "output_type": "display_data"
    },
    {
     "data": {
      "application/vnd.jupyter.widget-view+json": {
       "model_id": "d19067d155e3433e9c2998d002777591",
       "version_major": 2,
       "version_minor": 0
      },
      "text/plain": [
       "Training 5/10:   0%|          | 0/2344 [00:00<?, ?it/s]"
      ]
     },
     "metadata": {},
     "output_type": "display_data"
    },
    {
     "data": {
      "application/vnd.jupyter.widget-view+json": {
       "model_id": "c7c6078739a74920acdcd03d42db0b8c",
       "version_major": 2,
       "version_minor": 0
      },
      "text/plain": [
       "Validating 5/10:   0%|          | 0/782 [00:00<?, ?it/s]"
      ]
     },
     "metadata": {},
     "output_type": "display_data"
    },
    {
     "data": {
      "application/vnd.jupyter.widget-view+json": {
       "model_id": "922424c261d64359b99925a171238aa6",
       "version_major": 2,
       "version_minor": 0
      },
      "text/plain": [
       "Training 6/10:   0%|          | 0/2344 [00:00<?, ?it/s]"
      ]
     },
     "metadata": {},
     "output_type": "display_data"
    },
    {
     "data": {
      "application/vnd.jupyter.widget-view+json": {
       "model_id": "460b2b9ec0284cc3aaf8e45070904d20",
       "version_major": 2,
       "version_minor": 0
      },
      "text/plain": [
       "Validating 6/10:   0%|          | 0/782 [00:00<?, ?it/s]"
      ]
     },
     "metadata": {},
     "output_type": "display_data"
    },
    {
     "data": {
      "application/vnd.jupyter.widget-view+json": {
       "model_id": "1f22c0c09b3d400b912957170a624ccd",
       "version_major": 2,
       "version_minor": 0
      },
      "text/plain": [
       "Training 7/10:   0%|          | 0/2344 [00:00<?, ?it/s]"
      ]
     },
     "metadata": {},
     "output_type": "display_data"
    },
    {
     "data": {
      "application/vnd.jupyter.widget-view+json": {
       "model_id": "428bfb494b4b4748aca5f771cd9f881c",
       "version_major": 2,
       "version_minor": 0
      },
      "text/plain": [
       "Validating 7/10:   0%|          | 0/782 [00:00<?, ?it/s]"
      ]
     },
     "metadata": {},
     "output_type": "display_data"
    },
    {
     "data": {
      "application/vnd.jupyter.widget-view+json": {
       "model_id": "1b047e0c575c480182bf4cb7aaac472d",
       "version_major": 2,
       "version_minor": 0
      },
      "text/plain": [
       "Training 8/10:   0%|          | 0/2344 [00:00<?, ?it/s]"
      ]
     },
     "metadata": {},
     "output_type": "display_data"
    },
    {
     "data": {
      "application/vnd.jupyter.widget-view+json": {
       "model_id": "8f7cb7cd1ca54bc58d27631da25ee764",
       "version_major": 2,
       "version_minor": 0
      },
      "text/plain": [
       "Validating 8/10:   0%|          | 0/782 [00:00<?, ?it/s]"
      ]
     },
     "metadata": {},
     "output_type": "display_data"
    },
    {
     "data": {
      "application/vnd.jupyter.widget-view+json": {
       "model_id": "346735eaa6114110a2093825efef9127",
       "version_major": 2,
       "version_minor": 0
      },
      "text/plain": [
       "Training 9/10:   0%|          | 0/2344 [00:00<?, ?it/s]"
      ]
     },
     "metadata": {},
     "output_type": "display_data"
    },
    {
     "data": {
      "application/vnd.jupyter.widget-view+json": {
       "model_id": "e910859448ff411fab9d051f4a74539a",
       "version_major": 2,
       "version_minor": 0
      },
      "text/plain": [
       "Validating 9/10:   0%|          | 0/782 [00:00<?, ?it/s]"
      ]
     },
     "metadata": {},
     "output_type": "display_data"
    },
    {
     "data": {
      "application/vnd.jupyter.widget-view+json": {
       "model_id": "010db87a9f304d7ba529674bafb57a7b",
       "version_major": 2,
       "version_minor": 0
      },
      "text/plain": [
       "Training 10/10:   0%|          | 0/2344 [00:00<?, ?it/s]"
      ]
     },
     "metadata": {},
     "output_type": "display_data"
    },
    {
     "data": {
      "application/vnd.jupyter.widget-view+json": {
       "model_id": "b923d9cd10374076bd881d2aca182dc7",
       "version_major": 2,
       "version_minor": 0
      },
      "text/plain": [
       "Validating 10/10:   0%|          | 0/782 [00:00<?, ?it/s]"
      ]
     },
     "metadata": {},
     "output_type": "display_data"
    }
   ],
   "source": [
    "#!g1.1\n",
    "train_losses, test_losses, train_accuracies, test_accuracies = train(\n",
    "    model, optimizer, scheduler, criterion, train_loader, test_loader, num_epochs\n",
    ")"
   ]
  },
  {
   "cell_type": "code",
   "execution_count": 10,
   "id": "8d81f3a6",
   "metadata": {
    "cellId": "63hssj5bi4x0coy0p1d8gzq"
   },
   "outputs": [
    {
     "data": {
      "text/plain": [
       "[0.10548,\n",
       " 0.17552,\n",
       " 0.25164,\n",
       " 0.3128,\n",
       " 0.36552,\n",
       " 0.40508,\n",
       " 0.44676,\n",
       " 0.4714,\n",
       " 0.48836,\n",
       " 0.49648]"
      ]
     },
     "execution_count": 10,
     "metadata": {},
     "output_type": "execute_result"
    }
   ],
   "source": [
    "#!g1.1\n",
    "test_accuracies"
   ]
  },
  {
   "cell_type": "code",
   "execution_count": 11,
   "id": "fdaceec0",
   "metadata": {
    "cellId": "nsyoa9fid8kdicf6zbx8t4"
   },
   "outputs": [],
   "source": [
    "#!g1.1\n",
    "final_test = BhwtestDataset('/home/jupyter/mnt/datasets/bhw1/test/test/', transform=test_transform)\n",
    "final_loader = DataLoader(final_test, batch_size=1, shuffle=False, num_workers=4)"
   ]
  },
  {
   "cell_type": "code",
   "execution_count": 12,
   "id": "ea57ceb5",
   "metadata": {
    "cellId": "4wa74csyzqn2c5pqpl2fr4"
   },
   "outputs": [],
   "source": [
    "#!g1.1\n",
    "import gc\n",
    "\n",
    "@torch.no_grad()\n",
    "def get_pred(model, images):\n",
    "    images = images.to(device)\n",
    "    return model(images)\n"
   ]
  },
  {
   "cell_type": "code",
   "execution_count": 14,
   "id": "9115f905",
   "metadata": {
    "cellId": "1gpck9m6dwcwae7vovmoxh"
   },
   "outputs": [
    {
     "data": {
      "application/vnd.jupyter.widget-view+json": {
       "model_id": "d6e8e6babce54b5db0e8daf1a729da07",
       "version_major": 2,
       "version_minor": 0
      },
      "text/plain": [
       "  0%|          | 0/10000 [00:00<?, ?it/s]"
      ]
     },
     "metadata": {},
     "output_type": "display_data"
    }
   ],
   "source": [
    "#!g1.1\n",
    "ans_labels = []\n",
    "model.eval()\n",
    "with torch.no_grad():\n",
    "    for images, labels in tqdm(final_loader):\n",
    "        images = images.to(device)\n",
    "        ans_labels.append(model(images))"
   ]
  },
  {
   "cell_type": "code",
   "execution_count": 27,
   "id": "4da7505c",
   "metadata": {
    "cellId": "cf1jsm2t9akicozrnbt6ak"
   },
   "outputs": [],
   "source": [
    "#!g1.1\n",
    "pred = []\n",
    "for lab in ans_labels:\n",
    "    pred.append(lab.argmax(dim=1).item())\n"
   ]
  },
  {
   "cell_type": "code",
   "execution_count": 33,
   "id": "22664156",
   "metadata": {
    "cellId": "mq24gv2yhpxow56ig919j"
   },
   "outputs": [],
   "source": [
    "#!g1.1\n",
    "Label = np.array(pred)\n",
    "Id = final_test.file_names"
   ]
  },
  {
   "cell_type": "code",
   "execution_count": 43,
   "id": "fffb7d27",
   "metadata": {
    "cellId": "t8vgcb9j43lkl5wg1l36wk"
   },
   "outputs": [],
   "source": [
    "#!g1.1\n",
    "labels_test = pd.DataFrame()\n",
    "labels_test['Id'] = Id\n",
    "labels_test['Label'] = Label\n",
    "\n",
    "\n",
    "#, columns=['Id', 'Label']"
   ]
  },
  {
   "cell_type": "code",
   "execution_count": 46,
   "id": "62a26967",
   "metadata": {
    "cellId": "pnmhzwwokghv5qa6jbzg5"
   },
   "outputs": [],
   "source": [
    "#!g1.1\n",
    "labels_test.to_csv('labels_test.csv', index=False)"
   ]
  },
  {
   "cell_type": "code",
   "execution_count": null,
   "id": "f5a9e5cf",
   "metadata": {
    "cellId": "li57hsthqep1xo1cjqo8igh"
   },
   "outputs": [],
   "source": [
    "#!g1.1\n"
   ]
  }
 ],
 "metadata": {
  "language_info": {
   "codemirror_mode": {
    "name": "ipython",
    "version": 3
   },
   "file_extension": ".py",
   "mimetype": "text/x-python",
   "name": "python",
   "nbconvert_exporter": "python",
   "pygments_lexer": "ipython3",
   "version": "3.7.7"
  },
  "notebookId": "c1387405-f7b2-4735-89f0-19a3aa64617e",
  "notebookPath": "Untitled.ipynb"
 },
 "nbformat": 4,
 "nbformat_minor": 5
}
